{
 "cells": [
  {
   "cell_type": "code",
   "execution_count": 12,
   "metadata": {},
   "outputs": [
    {
     "data": {
      "text/plain": [
       "'\\ndata_array = [0.24, -0.9, 0.24, -0.9, 0.25, -0.9, 0.24, -0.9, 0.25, -0.9]*9\\n# Convert the list to a NumPy array\\ndata_array = np.array(data_array)\\n\\n# Reshape the array to have the same shape as your training data\\nreshaped_data = data_array.reshape(1, -1)  # Reshape to have 1 row and infer the number of columns (-1)\\n\\n# Predict the class for the reshaped data\\ny_pred = model.predict(reshaped_data)\\n\\nprint(y_pred)\\n'"
      ]
     },
     "execution_count": 12,
     "metadata": {},
     "output_type": "execute_result"
    }
   ],
   "source": [
    "from joblib import load\n",
    "import numpy as np\n",
    "model = load('svm_model.joblib')\n",
    "\n",
    "'''\n",
    "data_array = [0.24, -0.9, 0.24, -0.9, 0.25, -0.9, 0.24, -0.9, 0.25, -0.9]*9\n",
    "# Convert the list to a NumPy array\n",
    "data_array = np.array(data_array)\n",
    "\n",
    "# Reshape the array to have the same shape as your training data\n",
    "reshaped_data = data_array.reshape(1, -1)  # Reshape to have 1 row and infer the number of columns (-1)\n",
    "\n",
    "# Predict the class for the reshaped data\n",
    "y_pred = model.predict(reshaped_data)\n",
    "\n",
    "print(y_pred)\n",
    "'''"
   ]
  },
  {
   "cell_type": "code",
   "execution_count": 38,
   "metadata": {},
   "outputs": [
    {
     "ename": "SerialException",
     "evalue": "could not open port 'COM3': PermissionError(13, '存取被拒。', None, 5)",
     "output_type": "error",
     "traceback": [
      "\u001b[1;31m---------------------------------------------------------------------------\u001b[0m",
      "\u001b[1;31mSerialException\u001b[0m                           Traceback (most recent call last)",
      "Cell \u001b[1;32mIn[38], line 5\u001b[0m\n\u001b[0;32m      2\u001b[0m \u001b[38;5;28;01mimport\u001b[39;00m \u001b[38;5;21;01mtime\u001b[39;00m\n\u001b[0;32m      4\u001b[0m \u001b[38;5;66;03m# Open serial port\u001b[39;00m\n\u001b[1;32m----> 5\u001b[0m ser \u001b[38;5;241m=\u001b[39m \u001b[43mserial\u001b[49m\u001b[38;5;241;43m.\u001b[39;49m\u001b[43mSerial\u001b[49m\u001b[43m(\u001b[49m\u001b[38;5;124;43m'\u001b[39;49m\u001b[38;5;124;43mCOM3\u001b[39;49m\u001b[38;5;124;43m'\u001b[39;49m\u001b[43m,\u001b[49m\u001b[43m \u001b[49m\u001b[38;5;241;43m9600\u001b[39;49m\u001b[43m)\u001b[49m  \u001b[38;5;66;03m# Replace COMx with your COM port\u001b[39;00m\n\u001b[0;32m      6\u001b[0m ser\u001b[38;5;241m.\u001b[39mflushInput()  \u001b[38;5;66;03m# Clear the input buffer\u001b[39;00m\n\u001b[0;32m      8\u001b[0m data_array \u001b[38;5;241m=\u001b[39m []\n",
      "File \u001b[1;32mc:\\Users\\lol\\anaconda3\\envs\\myenv\\lib\\site-packages\\serial\\serialwin32.py:33\u001b[0m, in \u001b[0;36mSerial.__init__\u001b[1;34m(self, *args, **kwargs)\u001b[0m\n\u001b[0;32m     31\u001b[0m \u001b[38;5;28mself\u001b[39m\u001b[38;5;241m.\u001b[39m_overlapped_read \u001b[38;5;241m=\u001b[39m \u001b[38;5;28;01mNone\u001b[39;00m\n\u001b[0;32m     32\u001b[0m \u001b[38;5;28mself\u001b[39m\u001b[38;5;241m.\u001b[39m_overlapped_write \u001b[38;5;241m=\u001b[39m \u001b[38;5;28;01mNone\u001b[39;00m\n\u001b[1;32m---> 33\u001b[0m \u001b[38;5;28;43msuper\u001b[39;49m\u001b[43m(\u001b[49m\u001b[43mSerial\u001b[49m\u001b[43m,\u001b[49m\u001b[43m \u001b[49m\u001b[38;5;28;43mself\u001b[39;49m\u001b[43m)\u001b[49m\u001b[38;5;241;43m.\u001b[39;49m\u001b[38;5;21;43m__init__\u001b[39;49m\u001b[43m(\u001b[49m\u001b[38;5;241;43m*\u001b[39;49m\u001b[43margs\u001b[49m\u001b[43m,\u001b[49m\u001b[43m \u001b[49m\u001b[38;5;241;43m*\u001b[39;49m\u001b[38;5;241;43m*\u001b[39;49m\u001b[43mkwargs\u001b[49m\u001b[43m)\u001b[49m\n",
      "File \u001b[1;32mc:\\Users\\lol\\anaconda3\\envs\\myenv\\lib\\site-packages\\serial\\serialutil.py:244\u001b[0m, in \u001b[0;36mSerialBase.__init__\u001b[1;34m(self, port, baudrate, bytesize, parity, stopbits, timeout, xonxoff, rtscts, write_timeout, dsrdtr, inter_byte_timeout, exclusive, **kwargs)\u001b[0m\n\u001b[0;32m    241\u001b[0m     \u001b[38;5;28;01mraise\u001b[39;00m \u001b[38;5;167;01mValueError\u001b[39;00m(\u001b[38;5;124m'\u001b[39m\u001b[38;5;124munexpected keyword arguments: \u001b[39m\u001b[38;5;132;01m{!r}\u001b[39;00m\u001b[38;5;124m'\u001b[39m\u001b[38;5;241m.\u001b[39mformat(kwargs))\n\u001b[0;32m    243\u001b[0m \u001b[38;5;28;01mif\u001b[39;00m port \u001b[38;5;129;01mis\u001b[39;00m \u001b[38;5;129;01mnot\u001b[39;00m \u001b[38;5;28;01mNone\u001b[39;00m:\n\u001b[1;32m--> 244\u001b[0m     \u001b[38;5;28;43mself\u001b[39;49m\u001b[38;5;241;43m.\u001b[39;49m\u001b[43mopen\u001b[49m\u001b[43m(\u001b[49m\u001b[43m)\u001b[49m\n",
      "File \u001b[1;32mc:\\Users\\lol\\anaconda3\\envs\\myenv\\lib\\site-packages\\serial\\serialwin32.py:64\u001b[0m, in \u001b[0;36mSerial.open\u001b[1;34m(self)\u001b[0m\n\u001b[0;32m     62\u001b[0m \u001b[38;5;28;01mif\u001b[39;00m \u001b[38;5;28mself\u001b[39m\u001b[38;5;241m.\u001b[39m_port_handle \u001b[38;5;241m==\u001b[39m win32\u001b[38;5;241m.\u001b[39mINVALID_HANDLE_VALUE:\n\u001b[0;32m     63\u001b[0m     \u001b[38;5;28mself\u001b[39m\u001b[38;5;241m.\u001b[39m_port_handle \u001b[38;5;241m=\u001b[39m \u001b[38;5;28;01mNone\u001b[39;00m    \u001b[38;5;66;03m# 'cause __del__ is called anyway\u001b[39;00m\n\u001b[1;32m---> 64\u001b[0m     \u001b[38;5;28;01mraise\u001b[39;00m SerialException(\u001b[38;5;124m\"\u001b[39m\u001b[38;5;124mcould not open port \u001b[39m\u001b[38;5;132;01m{!r}\u001b[39;00m\u001b[38;5;124m: \u001b[39m\u001b[38;5;132;01m{!r}\u001b[39;00m\u001b[38;5;124m\"\u001b[39m\u001b[38;5;241m.\u001b[39mformat(\u001b[38;5;28mself\u001b[39m\u001b[38;5;241m.\u001b[39mportstr, ctypes\u001b[38;5;241m.\u001b[39mWinError()))\n\u001b[0;32m     66\u001b[0m \u001b[38;5;28;01mtry\u001b[39;00m:\n\u001b[0;32m     67\u001b[0m     \u001b[38;5;28mself\u001b[39m\u001b[38;5;241m.\u001b[39m_overlapped_read \u001b[38;5;241m=\u001b[39m win32\u001b[38;5;241m.\u001b[39mOVERLAPPED()\n",
      "\u001b[1;31mSerialException\u001b[0m: could not open port 'COM3': PermissionError(13, '存取被拒。', None, 5)"
     ]
    }
   ],
   "source": [
    "import serial\n",
    "import time\n",
    "\n",
    "# Open serial port\n",
    "ser = serial.Serial('COM3', 9600)  # Replace COMx with your COM port\n",
    "ser.flushInput()  # Clear the input buffer\n",
    "\n",
    "data_array = []\n",
    "\n",
    "def parse_data(data):\n",
    "    # Split the data by tab and convert to float\n",
    "    try:\n",
    "        return [float(val) for val in data.split()]\n",
    "    except ValueError:\n",
    "        return []\n",
    "\n",
    "while True:\n",
    "    if ser.in_waiting > 0:\n",
    "        line = ser.readline().decode('utf-8').rstrip()\n",
    "        # print(line)  # Print the received data for debugging\n",
    "        # print(line)\n",
    "        data = parse_data(line)\n",
    "        # print(data)\n",
    "        #if data:\n",
    "        data_array.extend(data)\n",
    "        if len(data_array) >= 90:\n",
    "                # Pop out the oldest data point\n",
    "                \n",
    "                data_arrayNP = np.array(data_array)\n",
    "                reshaped_data = data_arrayNP.reshape(1, -1)  # Reshape to have 1 row and infer the number of columns (-1)\n",
    "                y_pred = model.predict(reshaped_data)\n",
    "                print(y_pred)\n",
    "                \n",
    "                data_array.pop(0)\n",
    "                data_array.pop(0)\n",
    "        # print(f\"Stored Data Array: {data_array}\")\n",
    "        # Optionally, add a delay to avoid overwhelming the serial port\n",
    "        time.sleep(0.05)\n",
    "    \n",
    "\n",
    "# Remember to close the serial port when done (unreachable in this infinite loop)\n",
    "ser.close()"
   ]
  }
 ],
 "metadata": {
  "kernelspec": {
   "display_name": "myenv",
   "language": "python",
   "name": "python3"
  },
  "language_info": {
   "codemirror_mode": {
    "name": "ipython",
    "version": 3
   },
   "file_extension": ".py",
   "mimetype": "text/x-python",
   "name": "python",
   "nbconvert_exporter": "python",
   "pygments_lexer": "ipython3",
   "version": "3.8.19"
  }
 },
 "nbformat": 4,
 "nbformat_minor": 2
}
